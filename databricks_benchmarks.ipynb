{
 "cells": [
  {
   "cell_type": "code",
   "execution_count": 73,
   "metadata": {
    "slideshow": {
     "slide_type": "slide"
    }
   },
   "outputs": [],
   "source": [
    "from pyspark.sql import SparkSession\n",
    "\n",
    "spark = SparkSession \\\n",
    "    .builder \\\n",
    "    .appName(\"Python Spark Demo\") \\\n",
    "    .config(\"spark.sql.execution.arrow.enabled\", \"true\") \\\n",
    "    .getOrCreate()"
   ]
  },
  {
   "cell_type": "code",
   "execution_count": 78,
   "metadata": {
    "slideshow": {
     "slide_type": "slide"
    }
   },
   "outputs": [
    {
     "name": "stdout",
     "output_type": "stream",
     "text": [
      "+---+--------------------+\n",
      "| id|                   v|\n",
      "+---+--------------------+\n",
      "|  0|  0.6396597339694802|\n",
      "|  0|  0.9397931714622013|\n",
      "|  0|  0.6591600246397912|\n",
      "|  0| 0.19376043136814602|\n",
      "|  0| 0.48837864024237754|\n",
      "|  0| 0.03328959471057635|\n",
      "|  0|  0.9199406267596004|\n",
      "|  0| 0.14130572250892426|\n",
      "|  0|   0.619596330797797|\n",
      "|  0| 0.18111075320458392|\n",
      "|  0|     0.9189407080273|\n",
      "|  0|   0.453446078408109|\n",
      "|  0|  0.7492194974563935|\n",
      "|  0|0.022970691407076194|\n",
      "|  0|   0.197288877926302|\n",
      "|  0|  0.4917213965416942|\n",
      "|  0| 0.34604221937986046|\n",
      "|  0| 0.16944020075076216|\n",
      "|  0|  0.5082434678796076|\n",
      "|  0| 0.15950979939781618|\n",
      "+---+--------------------+\n",
      "only showing top 20 rows\n",
      "\n"
     ]
    }
   ],
   "source": [
    "from pyspark.sql.types import *\n",
    "from pyspark.sql.functions import col, count, rand, collect_list, explode, struct, count, lit\n",
    "from pyspark.sql.functions import udf, pandas_udf, PandasUDFType\n",
    "\n",
    "df = spark.range(0, 1000 * 1000).withColumn('id', (col('id') / 10000).cast('integer')).withColumn('v', rand())\n",
    "#df.cache()\n",
    "df.count()\n",
    "\n",
    "#df.show()"
   ]
  },
  {
   "cell_type": "code",
   "execution_count": 105,
   "metadata": {
    "slideshow": {
     "slide_type": "slide"
    }
   },
   "outputs": [
    {
     "name": "stdout",
     "output_type": "stream",
     "text": [
      "+--------+\n",
      "|count(v)|\n",
      "+--------+\n",
      "| 1000000|\n",
      "+--------+\n",
      "\n",
      "+--------+\n",
      "|count(v)|\n",
      "+--------+\n",
      "| 1000000|\n",
      "+--------+\n",
      "\n",
      "+--------+\n",
      "|count(v)|\n",
      "+--------+\n",
      "| 1000000|\n",
      "+--------+\n",
      "\n",
      "+--------+\n",
      "|count(v)|\n",
      "+--------+\n",
      "| 1000000|\n",
      "+--------+\n",
      "\n",
      "+--------+\n",
      "|count(v)|\n",
      "+--------+\n",
      "| 1000000|\n",
      "+--------+\n",
      "\n",
      "+--------+\n",
      "|count(v)|\n",
      "+--------+\n",
      "| 1000000|\n",
      "+--------+\n",
      "\n",
      "+--------+\n",
      "|count(v)|\n",
      "+--------+\n",
      "| 1000000|\n",
      "+--------+\n",
      "\n",
      "+--------+\n",
      "|count(v)|\n",
      "+--------+\n",
      "| 1000000|\n",
      "+--------+\n",
      "\n",
      "492 ms ± 16.5 ms per loop (mean ± std. dev. of 7 runs, 1 loop each)\n"
     ]
    }
   ],
   "source": [
    "@udf('double')\n",
    "def plus_one(v):\n",
    "    return v + 1\n",
    "\n",
    "plus_one_results = %timeit -o df.withColumn('v', plus_one(df.v)).agg(count(col('v')))"
   ]
  },
  {
   "cell_type": "code",
   "execution_count": 107,
   "metadata": {
    "slideshow": {
     "slide_type": "slide"
    }
   },
   "outputs": [
    {
     "name": "stdout",
     "output_type": "stream",
     "text": [
      "+--------+\n",
      "|count(v)|\n",
      "+--------+\n",
      "| 1000000|\n",
      "+--------+\n",
      "\n",
      "+--------+\n",
      "|count(v)|\n",
      "+--------+\n",
      "| 1000000|\n",
      "+--------+\n",
      "\n",
      "+--------+\n",
      "|count(v)|\n",
      "+--------+\n",
      "| 1000000|\n",
      "+--------+\n",
      "\n",
      "+--------+\n",
      "|count(v)|\n",
      "+--------+\n",
      "| 1000000|\n",
      "+--------+\n",
      "\n",
      "+--------+\n",
      "|count(v)|\n",
      "+--------+\n",
      "| 1000000|\n",
      "+--------+\n",
      "\n",
      "+--------+\n",
      "|count(v)|\n",
      "+--------+\n",
      "| 1000000|\n",
      "+--------+\n",
      "\n",
      "+--------+\n",
      "|count(v)|\n",
      "+--------+\n",
      "| 1000000|\n",
      "+--------+\n",
      "\n",
      "+--------+\n",
      "|count(v)|\n",
      "+--------+\n",
      "| 1000000|\n",
      "+--------+\n",
      "\n"
     ]
    }
   ],
   "source": [
    "@pandas_udf(\"double\", PandasUDFType.SCALAR)\n",
    "def pandas_plus_one(v):\n",
    "    return v + 1\n",
    "\n",
    "pandas_plus_one_results = %timeit -o df.withColumn('v', pandas_plus_one(df.v)).agg(count(col('v')))"
   ]
  },
  {
   "cell_type": "code",
   "execution_count": 108,
   "metadata": {
    "slideshow": {
     "slide_type": "slide"
    }
   },
   "outputs": [
    {
     "name": "stdout",
     "output_type": "stream",
     "text": [
      "+-----------------------------+\n",
      "|count(cumulative_probability)|\n",
      "+-----------------------------+\n",
      "|                      1000000|\n",
      "+-----------------------------+\n",
      "\n",
      "+-----------------------------+\n",
      "|count(cumulative_probability)|\n",
      "+-----------------------------+\n",
      "|                      1000000|\n",
      "+-----------------------------+\n",
      "\n",
      "+-----------------------------+\n",
      "|count(cumulative_probability)|\n",
      "+-----------------------------+\n",
      "|                      1000000|\n",
      "+-----------------------------+\n",
      "\n",
      "+-----------------------------+\n",
      "|count(cumulative_probability)|\n",
      "+-----------------------------+\n",
      "|                      1000000|\n",
      "+-----------------------------+\n",
      "\n"
     ]
    }
   ],
   "source": [
    "import pandas as pd\n",
    "from scipy import stats\n",
    "\n",
    "@udf('double')\n",
    "def cdf(v):\n",
    "    # stats.norm.cdf works on ints, lists, Pandas Series and NumPy arrays\n",
    "    return float(stats.norm.cdf(v))\n",
    "\n",
    "cdf_results = %timeit -o -q -n2 df.withColumn('cumulative_probability', cdf(df.v)).agg(count(col('cumulative_probability'))).show()"
   ]
  },
  {
   "cell_type": "code",
   "execution_count": 128,
   "metadata": {
    "slideshow": {
     "slide_type": "slide"
    }
   },
   "outputs": [
    {
     "name": "stdout",
     "output_type": "stream",
     "text": [
      "+-----------------------------+\n",
      "|count(cumulative_probability)|\n",
      "+-----------------------------+\n",
      "|                      1000000|\n",
      "+-----------------------------+\n",
      "\n",
      "+-----------------------------+\n",
      "|count(cumulative_probability)|\n",
      "+-----------------------------+\n",
      "|                      1000000|\n",
      "+-----------------------------+\n",
      "\n",
      "+-----------------------------+\n",
      "|count(cumulative_probability)|\n",
      "+-----------------------------+\n",
      "|                      1000000|\n",
      "+-----------------------------+\n",
      "\n",
      "+-----------------------------+\n",
      "|count(cumulative_probability)|\n",
      "+-----------------------------+\n",
      "|                      1000000|\n",
      "+-----------------------------+\n",
      "\n",
      "+-----------------------------+\n",
      "|count(cumulative_probability)|\n",
      "+-----------------------------+\n",
      "|                      1000000|\n",
      "+-----------------------------+\n",
      "\n",
      "+-----------------------------+\n",
      "|count(cumulative_probability)|\n",
      "+-----------------------------+\n",
      "|                      1000000|\n",
      "+-----------------------------+\n",
      "\n",
      "+-----------------------------+\n",
      "|count(cumulative_probability)|\n",
      "+-----------------------------+\n",
      "|                      1000000|\n",
      "+-----------------------------+\n",
      "\n",
      "+-----------------------------+\n",
      "|count(cumulative_probability)|\n",
      "+-----------------------------+\n",
      "|                      1000000|\n",
      "+-----------------------------+\n",
      "\n",
      "271 ms ± 27.8 ms per loop (mean ± std. dev. of 7 runs, 1 loop each)\n"
     ]
    }
   ],
   "source": [
    "import pandas as pd\n",
    "from scipy import stats\n",
    "\n",
    "# returnType=PandasUDFType.SCALAR is implied\n",
    "@pandas_udf('double')\n",
    "def pandas_cdf(v):\n",
    "    return pd.Series(stats.norm.cdf(v))\n",
    "\n",
    "pandas_cdf_results = %timeit -o df.withColumn('cumulative_probability', pandas_cdf(df.v)).agg(count(col('cumulative_probability'))).show()"
   ]
  },
  {
   "cell_type": "code",
   "execution_count": 129,
   "metadata": {
    "slideshow": {
     "slide_type": "slide"
    }
   },
   "outputs": [
    {
     "data": {
      "image/png": "[encoded data removed]",
      "text/plain": [
       "<Figure size 432x288 with 1 Axes>"
      ]
     },
     "metadata": {
      "needs_background": "light"
     },
     "output_type": "display_data"
    }
   ],
   "source": [
    "import matplotlib.pyplot as plt\n",
    "\n",
    "n_groups = 2\n",
    "udf_data = (plus_one_results.average, cdf_results.average)\n",
    "pudf_data = (pandas_plus_one_results.average, pandas_cdf_results.average)\n",
    "\n",
    "# create plot\n",
    "fig, ax = plt.subplots()\n",
    "index = np.arange(n_groups)\n",
    "bar_width = 0.35\n",
    "opacity = 0.8\n",
    "\n",
    "rects1 = plt.bar(index, udf_data, bar_width,\n",
    "alpha=opacity,\n",
    "color='b',\n",
    "label='UDF')\n",
    "\n",
    "rects2 = plt.bar(index + bar_width, pudf_data, bar_width,\n",
    "alpha=opacity,\n",
    "color='g',\n",
    "label='Pandas UDF')\n",
    "\n",
    "plt.xlabel('Benchmark')\n",
    "plt.ylabel('Time (seconds)')\n",
    "plt.title('Average Runtime')\n",
    "plt.xticks(index + bar_width/2, ('Plus One', 'CDF'))\n",
    "plt.legend()\n",
    "\n",
    "plt.tight_layout()\n",
    "plt.show()"
   ]
  },
  {
   "cell_type": "code",
   "execution_count": 27,
   "metadata": {
    "slideshow": {
     "slide_type": "slide"
    }
   },
   "outputs": [
    {
     "name": "stdout",
     "output_type": "stream",
     "text": [
      "+---+----+-------------------+------+\n",
      "| id|   v|               norm| fruit|\n",
      "+---+----+-------------------+------+\n",
      "|  1| 1.0|-0.7071067811865475| apple|\n",
      "|  1| 2.0| 0.7071067811865475|  pear|\n",
      "|  2| 3.0|-0.8320502943378437|orange|\n",
      "|  2| 5.0|-0.2773500981126146| grape|\n",
      "|  2|10.0| 1.1094003924504583| peach|\n",
      "+---+----+-------------------+------+\n",
      "\n"
     ]
    }
   ],
   "source": [
    "# Grouped Map\n",
    "from pyspark.sql.functions import pandas_udf, PandasUDFType\n",
    "df = spark.createDataFrame(\n",
    "    [(1, 1.0, \"apple\"),\n",
    "     (1, 2.0, \"pear\"),\n",
    "     (2, 3.0, \"orange\"),\n",
    "     (2, 5.0, \"grape\"),\n",
    "     (2, 10.0, \"peach\")],\n",
    "    (\"id\", \"v\", \"fruit\"))\n",
    "\n",
    "@pandas_udf(\"id long, v double, norm double, fruit string\", PandasUDFType.GROUPED_MAP)\n",
    "def normalize(pdf):\n",
    "    v = pdf.v\n",
    "    return pdf.assign(norm=(v - v.mean()) / v.std())\n",
    "\n",
    "df.groupby(\"id\").apply(normalize).show()"
   ]
  },
  {
   "cell_type": "code",
   "execution_count": 137,
   "metadata": {},
   "outputs": [
    {
     "data": {
      "text/html": [
       "<div>\n",
       "<style scoped>\n",
       "    .dataframe tbody tr th:only-of-type {\n",
       "        vertical-align: middle;\n",
       "    }\n",
       "\n",
       "    .dataframe tbody tr th {\n",
       "        vertical-align: top;\n",
       "    }\n",
       "\n",
       "    .dataframe thead th {\n",
       "        text-align: right;\n",
       "    }\n",
       "</style>\n",
       "<table border=\"1\" class=\"dataframe\">\n",
       "  <thead>\n",
       "    <tr style=\"text-align: right;\">\n",
       "      <th></th>\n",
       "      <th>id</th>\n",
       "      <th>v</th>\n",
       "      <th>newCol</th>\n",
       "    </tr>\n",
       "  </thead>\n",
       "  <tbody>\n",
       "    <tr>\n",
       "      <th>count</th>\n",
       "      <td>1000000.000000</td>\n",
       "      <td>1.000000e+06</td>\n",
       "      <td>1000000.000000</td>\n",
       "    </tr>\n",
       "    <tr>\n",
       "      <th>mean</th>\n",
       "      <td>49.500000</td>\n",
       "      <td>4.997750e-01</td>\n",
       "      <td>24.758108</td>\n",
       "    </tr>\n",
       "    <tr>\n",
       "      <th>std</th>\n",
       "      <td>28.866084</td>\n",
       "      <td>2.886805e-01</td>\n",
       "      <td>21.965422</td>\n",
       "    </tr>\n",
       "    <tr>\n",
       "      <th>min</th>\n",
       "      <td>0.000000</td>\n",
       "      <td>2.745763e-07</td>\n",
       "      <td>0.000000</td>\n",
       "    </tr>\n",
       "    <tr>\n",
       "      <th>25%</th>\n",
       "      <td>24.000000</td>\n",
       "      <td>2.497870e-01</td>\n",
       "      <td>6.584296</td>\n",
       "    </tr>\n",
       "    <tr>\n",
       "      <th>50%</th>\n",
       "      <td>50.000000</td>\n",
       "      <td>4.997043e-01</td>\n",
       "      <td>18.438158</td>\n",
       "    </tr>\n",
       "    <tr>\n",
       "      <th>75%</th>\n",
       "      <td>74.000000</td>\n",
       "      <td>7.495540e-01</td>\n",
       "      <td>37.966721</td>\n",
       "    </tr>\n",
       "    <tr>\n",
       "      <th>max</th>\n",
       "      <td>99.000000</td>\n",
       "      <td>9.999996e-01</td>\n",
       "      <td>98.993360</td>\n",
       "    </tr>\n",
       "  </tbody>\n",
       "</table>\n",
       "</div>"
      ],
      "text/plain": [
       "                   id             v          newCol\n",
       "count  1000000.000000  1.000000e+06  1000000.000000\n",
       "mean        49.500000  4.997750e-01       24.758108\n",
       "std         28.866084  2.886805e-01       21.965422\n",
       "min          0.000000  2.745763e-07        0.000000\n",
       "25%         24.000000  2.497870e-01        6.584296\n",
       "50%         50.000000  4.997043e-01       18.438158\n",
       "75%         74.000000  7.495540e-01       37.966721\n",
       "max         99.000000  9.999996e-01       98.993360"
      ]
     },
     "execution_count": 137,
     "metadata": {},
     "output_type": "execute_result"
    }
   ],
   "source": [
    "import databricks.koalas as ks\n",
    "import numpy as np\n",
    "from scipy import stats\n",
    "\n",
    "kdf = df.to_koalas()\n",
    "\n",
    "# def printer(s) -> np.int64:\n",
    "# #    return s*2\n",
    "#     return stats.norm.cdf(s)\n",
    "\n",
    "# # Need a better benchmark!  Something that is like the other benchmarks.\n",
    "# koalas_apply_results = %timeit -o kdf['id'].apply(printer)\n",
    "\n",
    "kdf['newCol'] = kdf['v'] * kdf['id']\n",
    "kdf.describe()"
   ]
  },
  {
   "cell_type": "code",
   "execution_count": 138,
   "metadata": {},
   "outputs": [
    {
     "name": "stdout",
     "output_type": "stream",
     "text": [
      "+---+--------------------+------+\n",
      "| id|                   v|newCol|\n",
      "+---+--------------------+------+\n",
      "|  0|  0.6396597339694802|   0.0|\n",
      "|  0|  0.9397931714622013|   0.0|\n",
      "|  0|  0.6591600246397912|   0.0|\n",
      "|  0| 0.19376043136814602|   0.0|\n",
      "|  0| 0.48837864024237754|   0.0|\n",
      "|  0| 0.03328959471057635|   0.0|\n",
      "|  0|  0.9199406267596004|   0.0|\n",
      "|  0| 0.14130572250892426|   0.0|\n",
      "|  0|   0.619596330797797|   0.0|\n",
      "|  0| 0.18111075320458392|   0.0|\n",
      "|  0|     0.9189407080273|   0.0|\n",
      "|  0|   0.453446078408109|   0.0|\n",
      "|  0|  0.7492194974563935|   0.0|\n",
      "|  0|0.022970691407076194|   0.0|\n",
      "|  0|   0.197288877926302|   0.0|\n",
      "|  0|  0.4917213965416942|   0.0|\n",
      "|  0| 0.34604221937986046|   0.0|\n",
      "|  0| 0.16944020075076216|   0.0|\n",
      "|  0|  0.5082434678796076|   0.0|\n",
      "|  0| 0.15950979939781618|   0.0|\n",
      "+---+--------------------+------+\n",
      "only showing top 20 rows\n",
      "\n"
     ]
    }
   ],
   "source": [
    "# Back to a Spark DataFrame\n",
    "sdf = kdf.to_spark()\n",
    "sdf.show()\n",
    "\n",
    "# Or other outputs:\n",
    "#pdf = kdf.to_pandas()\n",
    "#kdf.to_parquet('/file/path.parquet')"
   ]
  }
 ],
 "metadata": {
  "celltoolbar": "Slideshow",
  "kernelspec": {
   "display_name": "Python 3",
   "language": "python",
   "name": "python3"
  },
  "language_info": {
   "codemirror_mode": {
    "name": "ipython",
    "version": 3
   },
   "file_extension": ".py",
   "mimetype": "text/x-python",
   "name": "python",
   "nbconvert_exporter": "python",
   "pygments_lexer": "ipython3",
   "version": "3.7.3"
  }
 },
 "nbformat": 4,
 "nbformat_minor": 2
}
