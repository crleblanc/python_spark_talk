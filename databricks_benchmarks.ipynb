{
 "cells": [
  {
   "cell_type": "markdown",
   "metadata": {
    "slideshow": {
     "slide_type": "slide"
    }
   },
   "source": [
    "![PySpark](images/pyspark.jpeg)"
   ]
  },
  {
   "cell_type": "markdown",
   "metadata": {
    "slideshow": {
     "slide_type": "slide"
    }
   },
   "source": [
    "# Spark intro\n",
    "![cluster-overview](images/cluster-overview.png)"
   ]
  },
  {
   "cell_type": "markdown",
   "metadata": {
    "slideshow": {
     "slide_type": "slide"
    }
   },
   "source": [
    "# Spark Session - Local Cluster\n",
    " - One new param! spark.sql.execution.arrow.enabled  "
   ]
  },
  {
   "cell_type": "code",
   "execution_count": 2,
   "metadata": {
    "slideshow": {
     "slide_type": "fragment"
    }
   },
   "outputs": [],
   "source": [
    "from pyspark.sql import SparkSession\n",
    "\n",
    "spark = SparkSession \\\n",
    "    .builder \\\n",
    "    .appName(\"Python Spark Demo\") \\\n",
    "    .config(\"spark.sql.execution.arrow.enabled\", \"true\") \\\n",
    "    .getOrCreate()"
   ]
  },
  {
   "cell_type": "code",
   "execution_count": 8,
   "metadata": {
    "slideshow": {
     "slide_type": "subslide"
    }
   },
   "outputs": [
    {
     "name": "stdout",
     "output_type": "stream",
     "text": [
      "+---+-------------------+\n",
      "| id|                  v|\n",
      "+---+-------------------+\n",
      "|  0| 0.3967766438117645|\n",
      "|  0|0.45500210706749344|\n",
      "|  0| 0.2599081632841832|\n",
      "|  0| 0.4814453545972326|\n",
      "|  0|  0.252680270161203|\n",
      "+---+-------------------+\n",
      "only showing top 5 rows\n",
      "\n"
     ]
    }
   ],
   "source": [
    "# from pyspark.sql.types import *\n",
    "from pyspark.sql.functions import col, rand\n",
    "\n",
    "# Make some dummy data\n",
    "df = spark.range(0, 1000 * 1000).withColumn('id', (col('id') / 10000).cast('integer')).withColumn('v', rand())\n",
    "df.show(5)"
   ]
  },
  {
   "cell_type": "markdown",
   "metadata": {
    "slideshow": {
     "slide_type": "slide"
    }
   },
   "source": [
    "# Simple Python UDF (x+1)"
   ]
  },
  {
   "cell_type": "markdown",
   "metadata": {
    "slideshow": {
     "slide_type": "fragment"
    }
   },
   "source": [
    "![python_udf](images/python_udf.png)"
   ]
  },
  {
   "cell_type": "code",
   "execution_count": 79,
   "metadata": {
    "slideshow": {
     "slide_type": "slide"
    }
   },
   "outputs": [
    {
     "name": "stdout",
     "output_type": "stream",
     "text": [
      "+---+-------------------+------------------+\n",
      "| id|                  v|           v_plus1|\n",
      "+---+-------------------+------------------+\n",
      "|  0| 0.3967766438117645|1.3967766438117644|\n",
      "|  0|0.45500210706749344|1.4550021070674934|\n",
      "|  0| 0.2599081632841832|1.2599081632841833|\n",
      "|  0| 0.4814453545972326|1.4814453545972326|\n",
      "|  0|  0.252680270161203| 1.252680270161203|\n",
      "+---+-------------------+------------------+\n",
      "only showing top 5 rows\n",
      "\n"
     ]
    }
   ],
   "source": [
    "from pyspark.sql.functions import udf, count\n",
    "\n",
    "@udf('double')\n",
    "def plus_one(v):\n",
    "    return v + 1\n",
    "\n",
    "df.withColumn('v_plus1', plus_one(df.v)).show(5)"
   ]
  },
  {
   "cell_type": "code",
   "execution_count": 10,
   "metadata": {
    "slideshow": {
     "slide_type": "skip"
    }
   },
   "outputs": [
    {
     "name": "stdout",
     "output_type": "stream",
     "text": [
      "+--------------+\n",
      "|count(v_plus1)|\n",
      "+--------------+\n",
      "|       1000000|\n",
      "+--------------+\n",
      "\n",
      "+--------------+\n",
      "|count(v_plus1)|\n",
      "+--------------+\n",
      "|       1000000|\n",
      "+--------------+\n",
      "\n",
      "+--------------+\n",
      "|count(v_plus1)|\n",
      "+--------------+\n",
      "|       1000000|\n",
      "+--------------+\n",
      "\n",
      "+--------------+\n",
      "|count(v_plus1)|\n",
      "+--------------+\n",
      "|       1000000|\n",
      "+--------------+\n",
      "\n",
      "+--------------+\n",
      "|count(v_plus1)|\n",
      "+--------------+\n",
      "|       1000000|\n",
      "+--------------+\n",
      "\n",
      "612 ms ± 0 ns per loop (mean ± std. dev. of 1 run, 5 loops each)\n"
     ]
    }
   ],
   "source": [
    "# Timing.  Including aggregation to avoid optimising out the UDF calculation.\n",
    "plus_one_results = %timeit -o -n5 -r1 df.withColumn('v_plus1', plus_one(df.v)).agg(count(col('v_plus1'))).show()"
   ]
  },
  {
   "cell_type": "markdown",
   "metadata": {
    "slideshow": {
     "slide_type": "slide"
    }
   },
   "source": [
    "# Pandas UDF Equivalent (x+1)\n",
    " - Default is mode is PandasUDFType.SCALAR"
   ]
  },
  {
   "cell_type": "markdown",
   "metadata": {
    "slideshow": {
     "slide_type": "fragment"
    }
   },
   "source": [
    "![pandas_udf](images/pandas_scalar_udf.png)"
   ]
  },
  {
   "cell_type": "code",
   "execution_count": 22,
   "metadata": {
    "slideshow": {
     "slide_type": "slide"
    }
   },
   "outputs": [
    {
     "name": "stdout",
     "output_type": "stream",
     "text": [
      "+---+-------------------+------------------+\n",
      "| id|                  v|           v_plus1|\n",
      "+---+-------------------+------------------+\n",
      "|  0| 0.3967766438117645|1.3967766438117644|\n",
      "|  0|0.45500210706749344|1.4550021070674934|\n",
      "|  0| 0.2599081632841832|1.2599081632841833|\n",
      "|  0| 0.4814453545972326|1.4814453545972326|\n",
      "|  0|  0.252680270161203| 1.252680270161203|\n",
      "+---+-------------------+------------------+\n",
      "only showing top 5 rows\n",
      "\n"
     ]
    }
   ],
   "source": [
    "from pyspark.sql.functions import pandas_udf\n",
    "\n",
    "@pandas_udf(\"double\")\n",
    "def pandas_plus_one(v):\n",
    "    #print(v)\n",
    "    return v + 1\n",
    "\n",
    "df.withColumn('v_plus1', pandas_plus_one(df.v)).show(5)"
   ]
  },
  {
   "cell_type": "code",
   "execution_count": 12,
   "metadata": {
    "slideshow": {
     "slide_type": "skip"
    }
   },
   "outputs": [
    {
     "name": "stdout",
     "output_type": "stream",
     "text": [
      "+--------------+\n",
      "|count(v_plus1)|\n",
      "+--------------+\n",
      "|       1000000|\n",
      "+--------------+\n",
      "\n",
      "+--------------+\n",
      "|count(v_plus1)|\n",
      "+--------------+\n",
      "|       1000000|\n",
      "+--------------+\n",
      "\n",
      "+--------------+\n",
      "|count(v_plus1)|\n",
      "+--------------+\n",
      "|       1000000|\n",
      "+--------------+\n",
      "\n",
      "+--------------+\n",
      "|count(v_plus1)|\n",
      "+--------------+\n",
      "|       1000000|\n",
      "+--------------+\n",
      "\n",
      "+--------------+\n",
      "|count(v_plus1)|\n",
      "+--------------+\n",
      "|       1000000|\n",
      "+--------------+\n",
      "\n",
      "380 ms ± 0 ns per loop (mean ± std. dev. of 1 run, 5 loops each)\n"
     ]
    }
   ],
   "source": [
    "pandas_plus_one_results = %timeit -o -n5 -r1 df.withColumn('v_plus1', pandas_plus_one(df.v)).agg(count(col('v_plus1'))).show()"
   ]
  },
  {
   "cell_type": "markdown",
   "metadata": {
    "slideshow": {
     "slide_type": "slide"
    }
   },
   "source": [
    "# More Meaningful Example\n",
    " - Vectorised operations == SPEED!"
   ]
  },
  {
   "cell_type": "markdown",
   "metadata": {
    "slideshow": {
     "slide_type": "slide"
    }
   },
   "source": [
    "# UDF example:"
   ]
  },
  {
   "cell_type": "code",
   "execution_count": 13,
   "metadata": {
    "slideshow": {
     "slide_type": "fragment"
    }
   },
   "outputs": [
    {
     "name": "stdout",
     "output_type": "stream",
     "text": [
      "+---+-------------------+----------------------+\n",
      "| id|                  v|cumulative_probability|\n",
      "+---+-------------------+----------------------+\n",
      "|  0| 0.3967766438117645|    0.6542339122360233|\n",
      "|  0|0.45500210706749344|    0.6754461385195595|\n",
      "|  0| 0.2599081632841832|    0.6025326928849651|\n",
      "|  0| 0.4814453545972326|    0.6848999956666635|\n",
      "|  0|  0.252680270161203|    0.5997423523153556|\n",
      "+---+-------------------+----------------------+\n",
      "only showing top 5 rows\n",
      "\n"
     ]
    }
   ],
   "source": [
    "import pandas as pd\n",
    "from scipy import stats\n",
    "\n",
    "@udf('double')\n",
    "def cdf(v):\n",
    "    # stats.norm.cdf works on ints, lists, Pandas Series and NumPy arrays\n",
    "    return float(stats.norm.cdf(v))\n",
    "\n",
    "df.withColumn('cumulative_probability', cdf(df.v)).show(5)"
   ]
  },
  {
   "cell_type": "code",
   "execution_count": 14,
   "metadata": {
    "slideshow": {
     "slide_type": "skip"
    }
   },
   "outputs": [
    {
     "name": "stdout",
     "output_type": "stream",
     "text": [
      "+-----------------------------+\n",
      "|count(cumulative_probability)|\n",
      "+-----------------------------+\n",
      "|                      1000000|\n",
      "+-----------------------------+\n",
      "\n",
      "+-----------------------------+\n",
      "|count(cumulative_probability)|\n",
      "+-----------------------------+\n",
      "|                      1000000|\n",
      "+-----------------------------+\n",
      "\n",
      "+-----------------------------+\n",
      "|count(cumulative_probability)|\n",
      "+-----------------------------+\n",
      "|                      1000000|\n",
      "+-----------------------------+\n",
      "\n",
      "26.2 s ± 0 ns per loop (mean ± std. dev. of 1 run, 3 loops each)\n"
     ]
    }
   ],
   "source": [
    "# Timing\n",
    "cdf_results = %timeit -o -n3 -r1 df.withColumn('cumulative_probability', cdf(df.v)).agg(count(col('cumulative_probability'))).show()"
   ]
  },
  {
   "cell_type": "markdown",
   "metadata": {
    "slideshow": {
     "slide_type": "slide"
    }
   },
   "source": [
    "# Pandas UDF Example\n",
    " - Uses NumPy for CDF operation on an array instead of one number per function call"
   ]
  },
  {
   "cell_type": "code",
   "execution_count": 15,
   "metadata": {
    "slideshow": {
     "slide_type": "fragment"
    }
   },
   "outputs": [
    {
     "name": "stdout",
     "output_type": "stream",
     "text": [
      "+---+-------------------+----------------------+\n",
      "| id|                  v|cumulative_probability|\n",
      "+---+-------------------+----------------------+\n",
      "|  0| 0.3967766438117645|    0.6542339122360233|\n",
      "|  0|0.45500210706749344|    0.6754461385195595|\n",
      "|  0| 0.2599081632841832|    0.6025326928849651|\n",
      "|  0| 0.4814453545972326|    0.6848999956666635|\n",
      "|  0|  0.252680270161203|    0.5997423523153556|\n",
      "+---+-------------------+----------------------+\n",
      "only showing top 5 rows\n",
      "\n"
     ]
    }
   ],
   "source": [
    "import pandas as pd\n",
    "from scipy import stats\n",
    "\n",
    "# returnType=PandasUDFType.SCALAR is implied\n",
    "@pandas_udf('double')\n",
    "def pandas_cdf(v):\n",
    "    return pd.Series(stats.norm.cdf(v))\n",
    "\n",
    "df.withColumn('cumulative_probability', pandas_cdf(df.v)).show(5)"
   ]
  },
  {
   "cell_type": "code",
   "execution_count": 16,
   "metadata": {
    "slideshow": {
     "slide_type": "skip"
    }
   },
   "outputs": [
    {
     "name": "stdout",
     "output_type": "stream",
     "text": [
      "+-----------------------------+\n",
      "|count(cumulative_probability)|\n",
      "+-----------------------------+\n",
      "|                      1000000|\n",
      "+-----------------------------+\n",
      "\n",
      "+-----------------------------+\n",
      "|count(cumulative_probability)|\n",
      "+-----------------------------+\n",
      "|                      1000000|\n",
      "+-----------------------------+\n",
      "\n",
      "+-----------------------------+\n",
      "|count(cumulative_probability)|\n",
      "+-----------------------------+\n",
      "|                      1000000|\n",
      "+-----------------------------+\n",
      "\n",
      "+-----------------------------+\n",
      "|count(cumulative_probability)|\n",
      "+-----------------------------+\n",
      "|                      1000000|\n",
      "+-----------------------------+\n",
      "\n",
      "+-----------------------------+\n",
      "|count(cumulative_probability)|\n",
      "+-----------------------------+\n",
      "|                      1000000|\n",
      "+-----------------------------+\n",
      "\n",
      "373 ms ± 0 ns per loop (mean ± std. dev. of 1 run, 5 loops each)\n"
     ]
    }
   ],
   "source": [
    "# Timing\n",
    "pandas_cdf_results = %timeit -o -n5 -r1 df.withColumn('cumulative_probability', pandas_cdf(df.v)).agg(count(col('cumulative_probability'))).show()"
   ]
  },
  {
   "cell_type": "markdown",
   "metadata": {
    "slideshow": {
     "slide_type": "slide"
    }
   },
   "source": [
    "# Python UDF (list of rows)\n",
    " - Packs multiple rows into a single row\n",
    " - Complicated!"
   ]
  },
  {
   "cell_type": "code",
   "execution_count": 24,
   "metadata": {
    "slideshow": {
     "slide_type": "slide"
    }
   },
   "outputs": [
    {
     "name": "stdout",
     "output_type": "stream",
     "text": [
      "+---+--------------------+--------------------+--------------------+--------------------+\n",
      "| id|                rows|            new_rows|             new_row|                   v|\n",
      "+---+--------------------+--------------------+--------------------+--------------------+\n",
      "| 31|[[31, 0.746147407...|[[31, 0.243052882...|[31, 0.2430528828...|  0.2430528828768127|\n",
      "| 31|[[31, 0.746147407...|[[31, 0.243052882...|[31, 0.3647418368...| 0.36474183684153205|\n",
      "| 31|[[31, 0.746147407...|[[31, 0.243052882...|[31, -0.032954635...|-0.03295463514344...|\n",
      "| 31|[[31, 0.746147407...|[[31, 0.243052882...|[31, 0.4482174561...|  0.4482174561707901|\n",
      "| 31|[[31, 0.746147407...|[[31, 0.243052882...|[31, -0.398870948...|-0.39887094817538515|\n",
      "+---+--------------------+--------------------+--------------------+--------------------+\n",
      "only showing top 5 rows\n",
      "\n"
     ]
    }
   ],
   "source": [
    "from pyspark.sql.functions import col, count, rand, collect_list, explode, struct, count, lit\n",
    "from pyspark.sql import Row\n",
    "from pyspark.sql.types import ArrayType\n",
    "\n",
    "@udf(ArrayType(df.schema))\n",
    "def substract_mean(rows):\n",
    "    vs = pd.Series([r.v for r in rows])\n",
    "    vs = vs - vs.mean()\n",
    "    return [Row(id=rows[i]['id'], v=float(vs[i])) for i in range(len(rows))]\n",
    "\n",
    "df.groupby('id') \\\n",
    "    .agg(collect_list(struct(df['id'], df['v'])).alias('rows')) \\\n",
    "    .withColumn('new_rows', substract_mean(col('rows'))) \\\n",
    "    .withColumn('new_row', explode(col('new_rows'))) \\\n",
    "    .withColumn('id', col('new_row.id')) \\\n",
    "    .withColumn('v', col('new_row.v')) \\\n",
    "    .show(5)"
   ]
  },
  {
   "cell_type": "code",
   "execution_count": 25,
   "metadata": {
    "slideshow": {
     "slide_type": "skip"
    }
   },
   "outputs": [
    {
     "name": "stdout",
     "output_type": "stream",
     "text": [
      "+--------+\n",
      "|count(v)|\n",
      "+--------+\n",
      "| 1000000|\n",
      "+--------+\n",
      "\n",
      "+--------+\n",
      "|count(v)|\n",
      "+--------+\n",
      "| 1000000|\n",
      "+--------+\n",
      "\n",
      "+--------+\n",
      "|count(v)|\n",
      "+--------+\n",
      "| 1000000|\n",
      "+--------+\n",
      "\n",
      "+--------+\n",
      "|count(v)|\n",
      "+--------+\n",
      "| 1000000|\n",
      "+--------+\n",
      "\n",
      "+--------+\n",
      "|count(v)|\n",
      "+--------+\n",
      "| 1000000|\n",
      "+--------+\n",
      "\n",
      "11.9 s ± 0 ns per loop (mean ± std. dev. of 1 run, 5 loops each)\n"
     ]
    }
   ],
   "source": [
    "# Timing\n",
    "py_subtract_mean_results = %timeit -o -n3 -r1 df.groupby('id') \\\n",
    "    .agg(collect_list(struct(df['id'], df['v'])).alias('rows')) \\\n",
    "    .withColumn('new_rows', substract_mean(col('rows'))) \\\n",
    "    .withColumn('new_row', explode(col('new_rows'))) \\\n",
    "    .withColumn('id', col('new_row.id')) \\\n",
    "    .withColumn('v', col('new_row.v')) \\\n",
    "    .agg(count(col('v'))) \\\n",
    "    .show()"
   ]
  },
  {
   "cell_type": "markdown",
   "metadata": {
    "slideshow": {
     "slide_type": "slide"
    }
   },
   "source": [
    "# Pandas UDF Grouped Map\n",
    " - Extremely powerful and elegant\n",
    " - Pandas DataFrame input, Pandas DataFrame output"
   ]
  },
  {
   "cell_type": "markdown",
   "metadata": {
    "slideshow": {
     "slide_type": "fragment"
    }
   },
   "source": [
    "![grouped_map](images/pandas_grouped_map_udf.png)"
   ]
  },
  {
   "cell_type": "code",
   "execution_count": 66,
   "metadata": {
    "slideshow": {
     "slide_type": "skip"
    }
   },
   "outputs": [
    {
     "name": "stdout",
     "output_type": "stream",
     "text": [
      "+---+-----+-------------------+------+\n",
      "| id|value|               norm| fruit|\n",
      "+---+-----+-------------------+------+\n",
      "|  2|  5.1| 0.7071067811865475|orange|\n",
      "|  4|  3.5|-0.7071067811865475|orange|\n",
      "|  0|  2.3|-0.6201412226583429| apple|\n",
      "|  1|  1.0|-1.0808175594902545| apple|\n",
      "|  3|  6.5| 0.8681977117216795| apple|\n",
      "|  5|  6.4| 0.8327610704269172| apple|\n",
      "+---+-----+-------------------+------+\n",
      "\n"
     ]
    }
   ],
   "source": [
    "from pyspark.sql.functions import pandas_udf, PandasUDFType\n",
    "\n",
    "df = spark.createDataFrame(\n",
    "    [(0, 2.3, \"apple\"),\n",
    "     (1, 1.0, \"apple\"),\n",
    "     (2, 5.1, \"orange\"),\n",
    "     (3, 6.5, \"apple\"),\n",
    "     (4, 3.5, \"orange\"),\n",
    "     (5, 6.4, \"apple\")],\n",
    "    (\"id\", \"value\", \"fruit\"))\n",
    "\n",
    "@pandas_udf(\"id long, value double, norm double, fruit string\", PandasUDFType.GROUPED_MAP)\n",
    "def normalize(pdf):\n",
    "    v = pdf.value\n",
    "    return pdf.assign(norm=(v - v.mean()) / v.std())\n",
    "\n",
    "df.groupby(\"fruit\").apply(normalize).show()"
   ]
  },
  {
   "cell_type": "markdown",
   "metadata": {
    "slideshow": {
     "slide_type": "slide"
    }
   },
   "source": [
    "# Grouped Map\n",
    " - Faster and simpler"
   ]
  },
  {
   "cell_type": "code",
   "execution_count": 66,
   "metadata": {
    "slideshow": {
     "slide_type": "fragment"
    }
   },
   "outputs": [
    {
     "name": "stdout",
     "output_type": "stream",
     "text": [
      "+---+--------------------+\n",
      "| id|                   v|\n",
      "+---+--------------------+\n",
      "| 31|  0.2430528828768127|\n",
      "| 31| 0.36474183684153205|\n",
      "| 31|-0.03295463514344...|\n",
      "| 31|  0.4482174561707901|\n",
      "| 31|-0.39887094817538515|\n",
      "+---+--------------------+\n",
      "only showing top 5 rows\n",
      "\n"
     ]
    }
   ],
   "source": [
    "from pyspark.sql.functions import pandas_udf, PandasUDFType\n",
    "\n",
    "@pandas_udf(df.schema, PandasUDFType.GROUPED_MAP)\n",
    "def pandas_subtract_mean(pdf):\n",
    "    return pdf.assign(v=pdf.v - pdf.v.mean())\n",
    "\n",
    "df.groupby('id').apply(pandas_subtract_mean).show(5)"
   ]
  },
  {
   "cell_type": "code",
   "execution_count": 28,
   "metadata": {
    "slideshow": {
     "slide_type": "skip"
    }
   },
   "outputs": [
    {
     "name": "stdout",
     "output_type": "stream",
     "text": [
      "+--------+\n",
      "|count(v)|\n",
      "+--------+\n",
      "| 1000000|\n",
      "+--------+\n",
      "\n",
      "+--------+\n",
      "|count(v)|\n",
      "+--------+\n",
      "| 1000000|\n",
      "+--------+\n",
      "\n",
      "+--------+\n",
      "|count(v)|\n",
      "+--------+\n",
      "| 1000000|\n",
      "+--------+\n",
      "\n",
      "2.8 s ± 0 ns per loop (mean ± std. dev. of 1 run, 3 loops each)\n"
     ]
    }
   ],
   "source": [
    "#Timing\n",
    "pd_subtract_mean_results = %timeit -o -n3 -r1 df.groupby('id').apply(pandas_subtract_mean).agg(count(col('v'))).show()"
   ]
  },
  {
   "cell_type": "code",
   "execution_count": 68,
   "metadata": {
    "slideshow": {
     "slide_type": "skip"
    }
   },
   "outputs": [
    {
     "data": {
      "image/png": "[encoded data removed]",
      "text/plain": [
       "<Figure size 432x288 with 1 Axes>"
      ]
     },
     "metadata": {
      "needs_background": "light"
     },
     "output_type": "display_data"
    }
   ],
   "source": [
    "udf_data = (plus_one_results.average, cdf_results.average, py_subtract_mean_results.average)\n",
    "pudf_data = (pandas_plus_one_results.average, pandas_cdf_results.average, pd_subtract_mean_results.average)\n",
    "labels = ['Plus One', 'CDF', 'Subtract Mean']\n",
    "\n",
    "perf_df = pd.DataFrame({'UDF': udf_data,\n",
    "                        'Pandas_UDF': pudf_data}, index=labels)\n",
    "\n",
    "ax = perf_df.plot.bar(title='Runtime Performance (Docker/Spark Local)', rot=0, figsize=(6, 4))\n",
    "ax.set_xlabel('Benchmark Type')\n",
    "ax.set_ylabel('Time (s)')\n",
    "ax.figure.savefig('images/benchmarks.png', dpi=300)"
   ]
  },
  {
   "cell_type": "markdown",
   "metadata": {
    "slideshow": {
     "slide_type": "slide"
    }
   },
   "source": [
    "![benchmarks_plot](images/benchmarks.png)"
   ]
  },
  {
   "cell_type": "markdown",
   "metadata": {
    "slideshow": {
     "slide_type": "slide"
    }
   },
   "source": [
    "# GPU Compute\n",
    " - Spark DataFrame -> Pandas DataFrame -> NumPy Array\n",
    " - Normal CPython process on all Spark workers\n",
    " - C extensions/Cython/Numba/etc all available"
   ]
  },
  {
   "cell_type": "markdown",
   "metadata": {
    "slideshow": {
     "slide_type": "slide"
    }
   },
   "source": [
    "# Rapids (rapids.ai):\n",
    "![rapids](images/rapids_arrow.png)"
   ]
  },
  {
   "cell_type": "markdown",
   "metadata": {
    "slideshow": {
     "slide_type": "slide"
    }
   },
   "source": [
    "# Rapids / PyGDF / cuDF\n",
    " - Requires Cuda + nVidia GPU\n",
    " - Sorry Apple fanboys, wrong hardware so no benchmarks"
   ]
  },
  {
   "cell_type": "code",
   "execution_count": null,
   "metadata": {
    "slideshow": {
     "slide_type": "fragment"
    }
   },
   "outputs": [],
   "source": [
    "from pygdf.dataframe import DataFrame\n",
    " \n",
    "def gpu_plus_one_grouped(df.schema, PandasUDFType.GROUPED_MAP)\n",
    "    def add_one(incol, outcol):\n",
    "        # This functions gets JIT compiled into the \n",
    "        # CUDA kernel in the apply_rows() call\n",
    "        outcol = incol + 1\n",
    "\n",
    "    gpu_df = DataFrame(pdf)\n",
    "    gpu_df = gpu_df.apply_rows(gpu_plus_one_grouped,\n",
    "                               ['oldcol'],\n",
    "                               {'newcol': np.int32})\n",
    "    return gpu_df.to_pandas()\n",
    " \n",
    "df.groupby('id').apply(gpu_plus_one_grouped)"
   ]
  },
  {
   "cell_type": "markdown",
   "metadata": {
    "slideshow": {
     "slide_type": "slide"
    }
   },
   "source": [
    "# Koalas\n",
    " - Pandas like distributed DataFrame for Spark\n",
    " - Easy installation (Pip or Conda)\n",
    " - Incomplete but very active"
   ]
  },
  {
   "cell_type": "code",
   "execution_count": 62,
   "metadata": {
    "slideshow": {
     "slide_type": "fragment"
    }
   },
   "outputs": [
    {
     "name": "stdout",
     "output_type": "stream",
     "text": [
      "Requirement already satisfied: koalas in /opt/conda/lib/python3.7/site-packages (0.12.0)\n",
      "Requirement already satisfied: pandas>=0.23 in /opt/conda/lib/python3.7/site-packages (from koalas) (0.24.2)\n",
      "Requirement already satisfied: matplotlib>=3.0.0 in /opt/conda/lib/python3.7/site-packages (from koalas) (3.0.3)\n",
      "Requirement already satisfied: pyarrow>=0.10 in /opt/conda/lib/python3.7/site-packages (from koalas) (0.13.0)\n",
      "Requirement already satisfied: numpy>=1.14 in /opt/conda/lib/python3.7/site-packages (from koalas) (1.15.4)\n",
      "Requirement already satisfied: pytz>=2011k in /opt/conda/lib/python3.7/site-packages (from pandas>=0.23->koalas) (2019.1)\n",
      "Requirement already satisfied: python-dateutil>=2.5.0 in /opt/conda/lib/python3.7/site-packages (from pandas>=0.23->koalas) (2.8.0)\n",
      "Requirement already satisfied: cycler>=0.10 in /opt/conda/lib/python3.7/site-packages (from matplotlib>=3.0.0->koalas) (0.10.0)\n",
      "Requirement already satisfied: kiwisolver>=1.0.1 in /opt/conda/lib/python3.7/site-packages (from matplotlib>=3.0.0->koalas) (1.1.0)\n",
      "Requirement already satisfied: pyparsing!=2.0.4,!=2.1.2,!=2.1.6,>=2.0.1 in /opt/conda/lib/python3.7/site-packages (from matplotlib>=3.0.0->koalas) (2.4.0)\n",
      "Requirement already satisfied: six>=1.0.0 in /opt/conda/lib/python3.7/site-packages (from pyarrow>=0.10->koalas) (1.12.0)\n",
      "Requirement already satisfied: setuptools in /opt/conda/lib/python3.7/site-packages (from kiwisolver>=1.0.1->matplotlib>=3.0.0->koalas) (41.0.1)\n"
     ]
    }
   ],
   "source": [
    "!pip install koalas"
   ]
  },
  {
   "cell_type": "code",
   "execution_count": 73,
   "metadata": {
    "slideshow": {
     "slide_type": "slide"
    }
   },
   "outputs": [
    {
     "data": {
      "text/html": [
       "<div>\n",
       "<style scoped>\n",
       "    .dataframe tbody tr th:only-of-type {\n",
       "        vertical-align: middle;\n",
       "    }\n",
       "\n",
       "    .dataframe tbody tr th {\n",
       "        vertical-align: top;\n",
       "    }\n",
       "\n",
       "    .dataframe thead th {\n",
       "        text-align: right;\n",
       "    }\n",
       "</style>\n",
       "<table border=\"1\" class=\"dataframe\">\n",
       "  <thead>\n",
       "    <tr style=\"text-align: right;\">\n",
       "      <th></th>\n",
       "      <th>id</th>\n",
       "      <th>v</th>\n",
       "      <th>newCol</th>\n",
       "    </tr>\n",
       "  </thead>\n",
       "  <tbody>\n",
       "    <tr>\n",
       "      <th>count</th>\n",
       "      <td>1000000.000000</td>\n",
       "      <td>1.000000e+06</td>\n",
       "      <td>1000000.000000</td>\n",
       "    </tr>\n",
       "    <tr>\n",
       "      <th>mean</th>\n",
       "      <td>49.500000</td>\n",
       "      <td>5.003162e-01</td>\n",
       "      <td>24.769535</td>\n",
       "    </tr>\n",
       "    <tr>\n",
       "      <th>std</th>\n",
       "      <td>28.866084</td>\n",
       "      <td>2.885863e-01</td>\n",
       "      <td>21.956529</td>\n",
       "    </tr>\n",
       "    <tr>\n",
       "      <th>min</th>\n",
       "      <td>0.000000</td>\n",
       "      <td>6.506087e-07</td>\n",
       "      <td>0.000000</td>\n",
       "    </tr>\n",
       "    <tr>\n",
       "      <th>25%</th>\n",
       "      <td>24.000000</td>\n",
       "      <td>2.505411e-01</td>\n",
       "      <td>6.605426</td>\n",
       "    </tr>\n",
       "    <tr>\n",
       "      <th>50%</th>\n",
       "      <td>49.000000</td>\n",
       "      <td>5.009747e-01</td>\n",
       "      <td>18.456882</td>\n",
       "    </tr>\n",
       "    <tr>\n",
       "      <th>75%</th>\n",
       "      <td>74.000000</td>\n",
       "      <td>7.500864e-01</td>\n",
       "      <td>37.989822</td>\n",
       "    </tr>\n",
       "    <tr>\n",
       "      <th>max</th>\n",
       "      <td>99.000000</td>\n",
       "      <td>9.999993e-01</td>\n",
       "      <td>98.997088</td>\n",
       "    </tr>\n",
       "  </tbody>\n",
       "</table>\n",
       "</div>"
      ],
      "text/plain": [
       "                   id             v          newCol\n",
       "count  1000000.000000  1.000000e+06  1000000.000000\n",
       "mean        49.500000  5.003162e-01       24.769535\n",
       "std         28.866084  2.885863e-01       21.956529\n",
       "min          0.000000  6.506087e-07        0.000000\n",
       "25%         24.000000  2.505411e-01        6.605426\n",
       "50%         49.000000  5.009747e-01       18.456882\n",
       "75%         74.000000  7.500864e-01       37.989822\n",
       "max         99.000000  9.999993e-01       98.997088"
      ]
     },
     "execution_count": 73,
     "metadata": {},
     "output_type": "execute_result"
    }
   ],
   "source": [
    "import databricks.koalas as ks\n",
    "import numpy as np\n",
    "from scipy import stats\n",
    "\n",
    "kdf = df.to_koalas()\n",
    "\n",
    "kdf['newCol'] = kdf['v'] * kdf['id']\n",
    "kdf.describe()"
   ]
  },
  {
   "cell_type": "code",
   "execution_count": 67,
   "metadata": {
    "slideshow": {
     "slide_type": "slide"
    }
   },
   "outputs": [
    {
     "name": "stdout",
     "output_type": "stream",
     "text": [
      "+---+-------------------+------+\n",
      "| id|                  v|newCol|\n",
      "+---+-------------------+------+\n",
      "|  0| 0.3967766438117645|   0.0|\n",
      "|  0|0.45500210706749344|   0.0|\n",
      "|  0| 0.2599081632841832|   0.0|\n",
      "|  0| 0.4814453545972326|   0.0|\n",
      "|  0|  0.252680270161203|   0.0|\n",
      "+---+-------------------+------+\n",
      "only showing top 5 rows\n",
      "\n"
     ]
    }
   ],
   "source": [
    "# Back to a Spark DataFrame\n",
    "sdf = kdf.to_spark()\n",
    "sdf.show(5)\n",
    "\n",
    "# Or other outputs:\n",
    "#pdf = kdf.to_pandas()\n",
    "#kdf.to_parquet('/file/path.parquet')"
   ]
  },
  {
   "cell_type": "markdown",
   "metadata": {
    "slideshow": {
     "slide_type": "slide"
    }
   },
   "source": [
    "# Acknowledgements and References\n",
    " - Spark and PySpark\n",
    " - Databricks benchmarks notebook\n",
    " - Rapids project\n",
    " - https://www.slideshare.net/KeithKraus/gpuaccelerating-udfs-in-pyspark-with-numba-and-pygdf\n",
    "\n",
    "# Questions?"
   ]
  }
 ],
 "metadata": {
  "celltoolbar": "Slideshow",
  "kernelspec": {
   "display_name": "Python 3",
   "language": "python",
   "name": "python3"
  },
  "language_info": {
   "codemirror_mode": {
    "name": "ipython",
    "version": 3
   },
   "file_extension": ".py",
   "mimetype": "text/x-python",
   "name": "python",
   "nbconvert_exporter": "python",
   "pygments_lexer": "ipython3",
   "version": "3.7.3"
  }
 },
 "nbformat": 4,
 "nbformat_minor": 2
}
