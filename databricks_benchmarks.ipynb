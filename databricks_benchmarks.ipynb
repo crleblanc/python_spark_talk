{
 "cells": [
  {
   "cell_type": "markdown",
   "metadata": {
    "slideshow": {
     "slide_type": "slide"
    }
   },
   "source": [
    "![PySpark](images/pyspark.jpeg)"
   ]
  },
  {
   "cell_type": "markdown",
   "metadata": {
    "slideshow": {
     "slide_type": "slide"
    }
   },
   "source": [
    "# Spark Session - Local Cluster\n",
    " - One new param! spark.sql.execution.arrow.enabled  "
   ]
  },
  {
   "cell_type": "code",
   "execution_count": 1,
   "metadata": {
    "slideshow": {
     "slide_type": "fragment"
    }
   },
   "outputs": [],
   "source": [
    "from pyspark.sql import SparkSession\n",
    "\n",
    "spark = SparkSession \\\n",
    "    .builder \\\n",
    "    .appName(\"Python Spark Demo\") \\\n",
    "    .config(\"spark.sql.execution.arrow.enabled\", \"true\") \\\n",
    "    .getOrCreate()"
   ]
  },
  {
   "cell_type": "code",
   "execution_count": 5,
   "metadata": {
    "slideshow": {
     "slide_type": "subslide"
    }
   },
   "outputs": [
    {
     "name": "stdout",
     "output_type": "stream",
     "text": [
      "+---+-------------------+\n",
      "| id|                  v|\n",
      "+---+-------------------+\n",
      "|  0| 0.5766208283479304|\n",
      "|  0|0.49919833268384617|\n",
      "|  0|  0.791001313320162|\n",
      "|  0| 0.5887932034147858|\n",
      "|  0|   0.75336157801217|\n",
      "+---+-------------------+\n",
      "only showing top 5 rows\n",
      "\n"
     ]
    }
   ],
   "source": [
    "# from pyspark.sql.types import *\n",
    "from pyspark.sql.functions import col, rand\n",
    "\n",
    "# Make some dummy data\n",
    "df = spark.range(0, 1000 * 1000).withColumn('id', (col('id') / 10000).cast('integer')).withColumn('v', rand())\n",
    "df.show(5)"
   ]
  },
  {
   "cell_type": "markdown",
   "metadata": {
    "slideshow": {
     "slide_type": "slide"
    }
   },
   "source": [
    "# Simple Python UDF (x+1)"
   ]
  },
  {
   "cell_type": "markdown",
   "metadata": {
    "slideshow": {
     "slide_type": "fragment"
    }
   },
   "source": [
    "![python_udf](images/python_udf.png)"
   ]
  },
  {
   "cell_type": "code",
   "execution_count": 23,
   "metadata": {
    "slideshow": {
     "slide_type": "slide"
    }
   },
   "outputs": [
    {
     "name": "stdout",
     "output_type": "stream",
     "text": [
      "+---+-------------------+------------------+\n",
      "| id|                  v|           v_plus1|\n",
      "+---+-------------------+------------------+\n",
      "|  0| 0.5766208283479304|1.5766208283479304|\n",
      "|  0|0.49919833268384617| 1.499198332683846|\n",
      "|  0|  0.791001313320162|1.7910013133201619|\n",
      "|  0| 0.5887932034147858|1.5887932034147858|\n",
      "|  0|   0.75336157801217|  1.75336157801217|\n",
      "+---+-------------------+------------------+\n",
      "only showing top 5 rows\n",
      "\n"
     ]
    }
   ],
   "source": [
    "from pyspark.sql.functions import udf, count\n",
    "\n",
    "@udf('double')\n",
    "def plus_one(v):\n",
    "    return v + 1\n",
    "\n",
    "df.withColumn('v_plus1', plus_one(df.v)).show(5)"
   ]
  },
  {
   "cell_type": "code",
   "execution_count": 37,
   "metadata": {
    "slideshow": {
     "slide_type": "skip"
    }
   },
   "outputs": [
    {
     "name": "stdout",
     "output_type": "stream",
     "text": [
      "+--------------+\n",
      "|count(v_plus1)|\n",
      "+--------------+\n",
      "|       1000000|\n",
      "+--------------+\n",
      "\n",
      "+--------------+\n",
      "|count(v_plus1)|\n",
      "+--------------+\n",
      "|       1000000|\n",
      "+--------------+\n",
      "\n",
      "+--------------+\n",
      "|count(v_plus1)|\n",
      "+--------------+\n",
      "|       1000000|\n",
      "+--------------+\n",
      "\n",
      "+--------------+\n",
      "|count(v_plus1)|\n",
      "+--------------+\n",
      "|       1000000|\n",
      "+--------------+\n",
      "\n",
      "+--------------+\n",
      "|count(v_plus1)|\n",
      "+--------------+\n",
      "|       1000000|\n",
      "+--------------+\n",
      "\n",
      "456 ms ± 0 ns per loop (mean ± std. dev. of 1 run, 5 loops each)\n"
     ]
    }
   ],
   "source": [
    "# Timing.  Including aggregation to avoid optimising out the UDF calculation.\n",
    "plus_one_results = %timeit -o -n5 -r1 df.withColumn('v_plus1', plus_one(df.v)).agg(count(col('v_plus1'))).show()"
   ]
  },
  {
   "cell_type": "markdown",
   "metadata": {
    "slideshow": {
     "slide_type": "slide"
    }
   },
   "source": [
    "# Pandas UDF Equivalent (x+1)\n",
    " - Default is mode is PandasUDFType.SCALAR"
   ]
  },
  {
   "cell_type": "markdown",
   "metadata": {
    "slideshow": {
     "slide_type": "fragment"
    }
   },
   "source": [
    "![pandas_udf](images/pandas_scalar_udf.png)"
   ]
  },
  {
   "cell_type": "code",
   "execution_count": 20,
   "metadata": {
    "slideshow": {
     "slide_type": "slide"
    }
   },
   "outputs": [
    {
     "name": "stdout",
     "output_type": "stream",
     "text": [
      "+--------+\n",
      "|count(v)|\n",
      "+--------+\n",
      "| 1000000|\n",
      "+--------+\n",
      "\n"
     ]
    }
   ],
   "source": [
    "from pyspark.sql.functions import pandas_udf\n",
    "\n",
    "@pandas_udf(\"double\")\n",
    "def pandas_plus_one(v):\n",
    "    return v + 1\n",
    "\n",
    "df.withColumn('v_plus1', pandas_plus_one(df.v)).show(5)"
   ]
  },
  {
   "cell_type": "code",
   "execution_count": 38,
   "metadata": {
    "slideshow": {
     "slide_type": "skip"
    }
   },
   "outputs": [
    {
     "name": "stdout",
     "output_type": "stream",
     "text": [
      "+--------------+\n",
      "|count(v_plus1)|\n",
      "+--------------+\n",
      "|       1000000|\n",
      "+--------------+\n",
      "\n",
      "+--------------+\n",
      "|count(v_plus1)|\n",
      "+--------------+\n",
      "|       1000000|\n",
      "+--------------+\n",
      "\n",
      "+--------------+\n",
      "|count(v_plus1)|\n",
      "+--------------+\n",
      "|       1000000|\n",
      "+--------------+\n",
      "\n",
      "+--------------+\n",
      "|count(v_plus1)|\n",
      "+--------------+\n",
      "|       1000000|\n",
      "+--------------+\n",
      "\n",
      "+--------------+\n",
      "|count(v_plus1)|\n",
      "+--------------+\n",
      "|       1000000|\n",
      "+--------------+\n",
      "\n",
      "323 ms ± 0 ns per loop (mean ± std. dev. of 1 run, 5 loops each)\n"
     ]
    }
   ],
   "source": [
    "pandas_plus_one_results = %timeit -o -n5 -r1 df.withColumn('v_plus1', pandas_plus_one(df.v)).agg(count(col('v_plus1'))).show()"
   ]
  },
  {
   "cell_type": "markdown",
   "metadata": {
    "slideshow": {
     "slide_type": "slide"
    }
   },
   "source": [
    "# More Meaningful Example\n",
    " - Vectorised operations == SPEED!"
   ]
  },
  {
   "cell_type": "markdown",
   "metadata": {
    "slideshow": {
     "slide_type": "slide"
    }
   },
   "source": [
    "# UDF example:"
   ]
  },
  {
   "cell_type": "code",
   "execution_count": 43,
   "metadata": {
    "slideshow": {
     "slide_type": "fragment"
    }
   },
   "outputs": [
    {
     "name": "stdout",
     "output_type": "stream",
     "text": [
      "+---+-------------------+----------------------+\n",
      "| id|                  v|cumulative_probability|\n",
      "+---+-------------------+----------------------+\n",
      "|  0| 0.5766208283479304|    0.7179021870801072|\n",
      "|  0|0.49919833268384617|    0.6911801654655783|\n",
      "|  0|  0.791001313320162|    0.7855283874473473|\n",
      "|  0| 0.5887932034147858|    0.7219999971499573|\n",
      "|  0|   0.75336157801217|    0.7743836676693137|\n",
      "+---+-------------------+----------------------+\n",
      "only showing top 5 rows\n",
      "\n"
     ]
    }
   ],
   "source": [
    "import pandas as pd\n",
    "from scipy import stats\n",
    "\n",
    "@udf('double')\n",
    "def cdf(v):\n",
    "    # stats.norm.cdf works on ints, lists, Pandas Series and NumPy arrays\n",
    "    return float(stats.norm.cdf(v))\n",
    "\n",
    "df.withColumn('cumulative_probability', cdf(df.v)).show(5)"
   ]
  },
  {
   "cell_type": "code",
   "execution_count": 47,
   "metadata": {
    "slideshow": {
     "slide_type": "skip"
    }
   },
   "outputs": [
    {
     "name": "stdout",
     "output_type": "stream",
     "text": [
      "+-----------------------------+\n",
      "|count(cumulative_probability)|\n",
      "+-----------------------------+\n",
      "|                      1000000|\n",
      "+-----------------------------+\n",
      "\n",
      "+-----------------------------+\n",
      "|count(cumulative_probability)|\n",
      "+-----------------------------+\n",
      "|                      1000000|\n",
      "+-----------------------------+\n",
      "\n",
      "+-----------------------------+\n",
      "|count(cumulative_probability)|\n",
      "+-----------------------------+\n",
      "|                      1000000|\n",
      "+-----------------------------+\n",
      "\n",
      "19.6 s ± 0 ns per loop (mean ± std. dev. of 1 run, 3 loops each)\n"
     ]
    }
   ],
   "source": [
    "# Timing\n",
    "cdf_results = %timeit -o -n3 -r1 df.withColumn('cumulative_probability', cdf(df.v)).agg(count(col('cumulative_probability'))).show()"
   ]
  },
  {
   "cell_type": "markdown",
   "metadata": {
    "slideshow": {
     "slide_type": "slide"
    }
   },
   "source": [
    "# Pandas UDF Example\n",
    " - Uses NumPy for CDF operation on an array instead of one number per function call"
   ]
  },
  {
   "cell_type": "code",
   "execution_count": 48,
   "metadata": {
    "slideshow": {
     "slide_type": "fragment"
    }
   },
   "outputs": [
    {
     "name": "stdout",
     "output_type": "stream",
     "text": [
      "+---+-------------------+----------------------+\n",
      "| id|                  v|cumulative_probability|\n",
      "+---+-------------------+----------------------+\n",
      "|  0| 0.5766208283479304|    0.7179021870801072|\n",
      "|  0|0.49919833268384617|    0.6911801654655783|\n",
      "|  0|  0.791001313320162|    0.7855283874473473|\n",
      "|  0| 0.5887932034147858|    0.7219999971499573|\n",
      "|  0|   0.75336157801217|    0.7743836676693137|\n",
      "+---+-------------------+----------------------+\n",
      "only showing top 5 rows\n",
      "\n"
     ]
    }
   ],
   "source": [
    "import pandas as pd\n",
    "from scipy import stats\n",
    "\n",
    "# returnType=PandasUDFType.SCALAR is implied\n",
    "@pandas_udf('double')\n",
    "def pandas_cdf(v):\n",
    "    return pd.Series(stats.norm.cdf(v))\n",
    "\n",
    "df.withColumn('cumulative_probability', pandas_cdf(df.v)).show(5)"
   ]
  },
  {
   "cell_type": "code",
   "execution_count": 49,
   "metadata": {
    "slideshow": {
     "slide_type": "skip"
    }
   },
   "outputs": [
    {
     "name": "stdout",
     "output_type": "stream",
     "text": [
      "+-----------------------------+\n",
      "|count(cumulative_probability)|\n",
      "+-----------------------------+\n",
      "|                      1000000|\n",
      "+-----------------------------+\n",
      "\n",
      "+-----------------------------+\n",
      "|count(cumulative_probability)|\n",
      "+-----------------------------+\n",
      "|                      1000000|\n",
      "+-----------------------------+\n",
      "\n",
      "+-----------------------------+\n",
      "|count(cumulative_probability)|\n",
      "+-----------------------------+\n",
      "|                      1000000|\n",
      "+-----------------------------+\n",
      "\n",
      "+-----------------------------+\n",
      "|count(cumulative_probability)|\n",
      "+-----------------------------+\n",
      "|                      1000000|\n",
      "+-----------------------------+\n",
      "\n",
      "+-----------------------------+\n",
      "|count(cumulative_probability)|\n",
      "+-----------------------------+\n",
      "|                      1000000|\n",
      "+-----------------------------+\n",
      "\n",
      "385 ms ± 0 ns per loop (mean ± std. dev. of 1 run, 5 loops each)\n"
     ]
    }
   ],
   "source": [
    "# Timing\n",
    "pandas_cdf_results = %timeit -o -n5 -r1 df.withColumn('cumulative_probability', pandas_cdf(df.v)).agg(count(col('cumulative_probability'))).show()"
   ]
  },
  {
   "cell_type": "code",
   "execution_count": 59,
   "metadata": {
    "slideshow": {
     "slide_type": "skip"
    }
   },
   "outputs": [
    {
     "data": {
      "text/plain": [
       "<Figure size 720x720 with 0 Axes>"
      ]
     },
     "metadata": {},
     "output_type": "display_data"
    },
    {
     "data": {
      "image/png": "[encoded data removed]",
      "text/plain": [
       "<Figure size 432x288 with 1 Axes>"
      ]
     },
     "metadata": {
      "needs_background": "light"
     },
     "output_type": "display_data"
    }
   ],
   "source": [
    "import numpy as np\n",
    "import matplotlib.pyplot as plt\n",
    "\n",
    "n_groups = 2\n",
    "udf_data = (plus_one_results.average, cdf_results.average)\n",
    "pudf_data = (pandas_plus_one_results.average, pandas_cdf_results.average)\n",
    "\n",
    "plt.figure(figsize=(10,10))\n",
    "\n",
    "# create plot\n",
    "fig, ax = plt.subplots()\n",
    "index = np.arange(n_groups)\n",
    "bar_width = 0.35\n",
    "opacity = 0.8\n",
    "\n",
    "rects1 = plt.bar(index, udf_data, bar_width,\n",
    "alpha=opacity,\n",
    "color='b',\n",
    "label='UDF')\n",
    "\n",
    "rects2 = plt.bar(index + bar_width, pudf_data, bar_width,\n",
    "alpha=opacity,\n",
    "color='g',\n",
    "label='Pandas UDF')\n",
    "\n",
    "plt.xlabel('Benchmark')\n",
    "plt.ylabel('Time (seconds)')\n",
    "plt.title('Average Runtime')\n",
    "plt.xticks(index + bar_width/2, ('Plus One', 'CDF'))\n",
    "plt.legend()\n",
    "\n",
    "plt.tight_layout()\n",
    "plt.savefig('images/benchmarks.png', dpi=300)\n",
    "\n",
    "plt.show()"
   ]
  },
  {
   "cell_type": "markdown",
   "metadata": {
    "slideshow": {
     "slide_type": "slide"
    }
   },
   "source": [
    "![benchmarks_plot](images/benchmarks.png)"
   ]
  },
  {
   "cell_type": "markdown",
   "metadata": {
    "slideshow": {
     "slide_type": "slide"
    }
   },
   "source": [
    "# Pandas UDF Grouped Map\n",
    " - Here's where it gets interesting...\n",
    " - Pandas DataFrame input, Pandas DataFrame output"
   ]
  },
  {
   "cell_type": "markdown",
   "metadata": {
    "slideshow": {
     "slide_type": "fragment"
    }
   },
   "source": [
    "![grouped_map](images/pandas_grouped_map_udf.png)"
   ]
  },
  {
   "cell_type": "code",
   "execution_count": 66,
   "metadata": {
    "slideshow": {
     "slide_type": "slide"
    }
   },
   "outputs": [
    {
     "name": "stdout",
     "output_type": "stream",
     "text": [
      "+---+-----+-------------------+------+\n",
      "| id|value|               norm| fruit|\n",
      "+---+-----+-------------------+------+\n",
      "|  2|  5.1| 0.7071067811865475|orange|\n",
      "|  4|  3.5|-0.7071067811865475|orange|\n",
      "|  0|  2.3|-0.6201412226583429| apple|\n",
      "|  1|  1.0|-1.0808175594902545| apple|\n",
      "|  3|  6.5| 0.8681977117216795| apple|\n",
      "|  5|  6.4| 0.8327610704269172| apple|\n",
      "+---+-----+-------------------+------+\n",
      "\n"
     ]
    }
   ],
   "source": [
    "from pyspark.sql.functions import pandas_udf, PandasUDFType\n",
    "\n",
    "df = spark.createDataFrame(\n",
    "    [(0, 2.3, \"apple\"),\n",
    "     (1, 1.0, \"apple\"),\n",
    "     (2, 5.1, \"orange\"),\n",
    "     (3, 6.5, \"apple\"),\n",
    "     (4, 3.5, \"orange\"),\n",
    "     (5, 6.4, \"apple\")],\n",
    "    (\"id\", \"value\", \"fruit\"))\n",
    "\n",
    "@pandas_udf(\"id long, value double, norm double, fruit string\", PandasUDFType.GROUPED_MAP)\n",
    "def normalize(pdf):\n",
    "    v = pdf.value\n",
    "    return pdf.assign(norm=(v - v.mean()) / v.std())\n",
    "\n",
    "df.groupby(\"fruit\").apply(normalize).show()"
   ]
  },
  {
   "cell_type": "markdown",
   "metadata": {
    "slideshow": {
     "slide_type": "skip"
    }
   },
   "source": [
    "# TODO:\n",
    " - Make a UDF equivalent of the grouped map.\n",
    " - Add to the benchmark plot\n",
    " - Benchmark Koalas too, better examples"
   ]
  },
  {
   "cell_type": "markdown",
   "metadata": {
    "slideshow": {
     "slide_type": "slide"
    }
   },
   "source": [
    "# Koalas\n",
    " - Pandas like distributed DataFrame for Spark\n",
    " - Easy installation (Pip or Conda)\n",
    " - Incomplete but very active"
   ]
  },
  {
   "cell_type": "code",
   "execution_count": 68,
   "metadata": {
    "slideshow": {
     "slide_type": "fragment"
    }
   },
   "outputs": [
    {
     "name": "stdout",
     "output_type": "stream",
     "text": [
      "Collecting koalas\n",
      "\u001b[?25l  Downloading https://files.pythonhosted.org/packages/b0/8b/2d2951b1585a6e075a1c69d75570f72f230a195a81b95db784cdc2b2ab19/koalas-0.12.0-py3-none-any.whl (179kB)\n",
      "\u001b[K     |████████████████████████████████| 184kB 1.3MB/s eta 0:00:01\n",
      "\u001b[?25hRequirement already satisfied: matplotlib>=3.0.0 in /opt/conda/lib/python3.7/site-packages (from koalas) (3.0.3)\n",
      "Requirement already satisfied: pandas>=0.23 in /opt/conda/lib/python3.7/site-packages (from koalas) (0.24.2)\n",
      "Requirement already satisfied: numpy>=1.14 in /opt/conda/lib/python3.7/site-packages (from koalas) (1.15.4)\n",
      "Requirement already satisfied: pyarrow>=0.10 in /opt/conda/lib/python3.7/site-packages (from koalas) (0.13.0)\n",
      "Requirement already satisfied: cycler>=0.10 in /opt/conda/lib/python3.7/site-packages (from matplotlib>=3.0.0->koalas) (0.10.0)\n",
      "Requirement already satisfied: kiwisolver>=1.0.1 in /opt/conda/lib/python3.7/site-packages (from matplotlib>=3.0.0->koalas) (1.1.0)\n",
      "Requirement already satisfied: pyparsing!=2.0.4,!=2.1.2,!=2.1.6,>=2.0.1 in /opt/conda/lib/python3.7/site-packages (from matplotlib>=3.0.0->koalas) (2.4.0)\n",
      "Requirement already satisfied: python-dateutil>=2.1 in /opt/conda/lib/python3.7/site-packages (from matplotlib>=3.0.0->koalas) (2.8.0)\n",
      "Requirement already satisfied: pytz>=2011k in /opt/conda/lib/python3.7/site-packages (from pandas>=0.23->koalas) (2019.1)\n",
      "Requirement already satisfied: six>=1.0.0 in /opt/conda/lib/python3.7/site-packages (from pyarrow>=0.10->koalas) (1.12.0)\n",
      "Requirement already satisfied: setuptools in /opt/conda/lib/python3.7/site-packages (from kiwisolver>=1.0.1->matplotlib>=3.0.0->koalas) (41.0.1)\n",
      "Installing collected packages: koalas\n",
      "Successfully installed koalas-0.12.0\n"
     ]
    }
   ],
   "source": [
    "!pip install koalas"
   ]
  },
  {
   "cell_type": "code",
   "execution_count": 72,
   "metadata": {
    "slideshow": {
     "slide_type": "slide"
    }
   },
   "outputs": [
    {
     "data": {
      "text/html": [
       "<div>\n",
       "<style scoped>\n",
       "    .dataframe tbody tr th:only-of-type {\n",
       "        vertical-align: middle;\n",
       "    }\n",
       "\n",
       "    .dataframe tbody tr th {\n",
       "        vertical-align: top;\n",
       "    }\n",
       "\n",
       "    .dataframe thead th {\n",
       "        text-align: right;\n",
       "    }\n",
       "</style>\n",
       "<table border=\"1\" class=\"dataframe\">\n",
       "  <thead>\n",
       "    <tr style=\"text-align: right;\">\n",
       "      <th></th>\n",
       "      <th>id</th>\n",
       "      <th>value</th>\n",
       "      <th>fruit</th>\n",
       "      <th>newCol</th>\n",
       "    </tr>\n",
       "  </thead>\n",
       "  <tbody>\n",
       "    <tr>\n",
       "      <th>0</th>\n",
       "      <td>0</td>\n",
       "      <td>2.3</td>\n",
       "      <td>apple</td>\n",
       "      <td>0.0</td>\n",
       "    </tr>\n",
       "    <tr>\n",
       "      <th>1</th>\n",
       "      <td>1</td>\n",
       "      <td>1.0</td>\n",
       "      <td>apple</td>\n",
       "      <td>1.0</td>\n",
       "    </tr>\n",
       "    <tr>\n",
       "      <th>2</th>\n",
       "      <td>2</td>\n",
       "      <td>5.1</td>\n",
       "      <td>orange</td>\n",
       "      <td>10.2</td>\n",
       "    </tr>\n",
       "    <tr>\n",
       "      <th>3</th>\n",
       "      <td>3</td>\n",
       "      <td>6.5</td>\n",
       "      <td>apple</td>\n",
       "      <td>19.5</td>\n",
       "    </tr>\n",
       "    <tr>\n",
       "      <th>4</th>\n",
       "      <td>4</td>\n",
       "      <td>3.5</td>\n",
       "      <td>orange</td>\n",
       "      <td>14.0</td>\n",
       "    </tr>\n",
       "  </tbody>\n",
       "</table>\n",
       "</div>"
      ],
      "text/plain": [
       "   id  value   fruit  newCol\n",
       "0   0    2.3   apple     0.0\n",
       "1   1    1.0   apple     1.0\n",
       "2   2    5.1  orange    10.2\n",
       "3   3    6.5   apple    19.5\n",
       "4   4    3.5  orange    14.0"
      ]
     },
     "execution_count": 72,
     "metadata": {},
     "output_type": "execute_result"
    }
   ],
   "source": [
    "import databricks.koalas as ks\n",
    "import numpy as np\n",
    "from scipy import stats\n",
    "\n",
    "kdf = df.to_koalas()\n",
    "\n",
    "# def printer(s) -> np.int64:\n",
    "# #    return s*2\n",
    "#     return stats.norm.cdf(s)\n",
    "\n",
    "# # Need a better benchmark!  Something that is like the other benchmarks.\n",
    "# koalas_apply_results = %timeit -o kdf['id'].apply(printer)\n",
    "\n",
    "kdf['newCol'] = kdf['value'] * kdf['id']\n",
    "kdf.head()"
   ]
  },
  {
   "cell_type": "code",
   "execution_count": 71,
   "metadata": {
    "slideshow": {
     "slide_type": "slide"
    }
   },
   "outputs": [
    {
     "name": "stdout",
     "output_type": "stream",
     "text": [
      "+---+-----+------+------+\n",
      "| id|value| fruit|newCol|\n",
      "+---+-----+------+------+\n",
      "|  0|  2.3| apple|   0.0|\n",
      "|  1|  1.0| apple|   1.0|\n",
      "|  2|  5.1|orange|  10.2|\n",
      "|  3|  6.5| apple|  19.5|\n",
      "|  4|  3.5|orange|  14.0|\n",
      "|  5|  6.4| apple|  32.0|\n",
      "+---+-----+------+------+\n",
      "\n"
     ]
    }
   ],
   "source": [
    "# Back to a Spark DataFrame\n",
    "sdf = kdf.to_spark()\n",
    "sdf.show()\n",
    "\n",
    "# Or other outputs:\n",
    "#pdf = kdf.to_pandas()\n",
    "#kdf.to_parquet('/file/path.parquet')"
   ]
  }
 ],
 "metadata": {
  "celltoolbar": "Slideshow",
  "kernelspec": {
   "display_name": "Python 3",
   "language": "python",
   "name": "python3"
  },
  "language_info": {
   "codemirror_mode": {
    "name": "ipython",
    "version": 3
   },
   "file_extension": ".py",
   "mimetype": "text/x-python",
   "name": "python",
   "nbconvert_exporter": "python",
   "pygments_lexer": "ipython3",
   "version": "3.7.3"
  }
 },
 "nbformat": 4,
 "nbformat_minor": 2
}
