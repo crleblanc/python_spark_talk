{
 "cells": [
  {
   "cell_type": "code",
   "execution_count": 1,
   "metadata": {},
   "outputs": [],
   "source": [
    "# Download the Iris CSV data if not present\n",
    "import pandas as pd\n",
    "import os\n",
    "\n",
    "# Data from http://archive.ics.uci.edu/ml/datasets/Abalone\n",
    "test_data = 'abalone.csv'\n",
    "names = ['sex', 'length', 'diameter', 'height',\n",
    "         'whole_weight', 'shucked_weight', 'viscera_weight',\n",
    "         'shell_weight', 'rings']\n",
    "\n",
    "if not os.path.exists(test_data):\n",
    "    data = pd.read_csv('http://archive.ics.uci.edu/ml/machine-learning-databases/abalone/abalone.data', names=names)\n",
    "    abalone = pd.concat([data]*500, ignore_index=True)\n",
    "    abalone.to_csv(test_data)"
   ]
  },
  {
   "cell_type": "code",
   "execution_count": 2,
   "metadata": {},
   "outputs": [],
   "source": [
    "# Create Spark session\n",
    "\n",
    "from pyspark.sql import SparkSession\n",
    "\n",
    "spark = SparkSession \\\n",
    "    .builder \\\n",
    "    .appName(\"Python Spark Demo\") \\\n",
    "    .config(\"spark.sql.execution.arrow.enabled\", \"true\") \\\n",
    "    .getOrCreate()\n"
   ]
  },
  {
   "cell_type": "code",
   "execution_count": 9,
   "metadata": {},
   "outputs": [
    {
     "data": {
      "text/plain": [
       "DataFrame[_c0: int, sex: string, length: double, diameter: double, height: double, whole_weight: double, shucked_weight: double, viscera_weight: double, shell_weight: double, rings: int]"
      ]
     },
     "execution_count": 9,
     "metadata": {},
     "output_type": "execute_result"
    }
   ],
   "source": [
    "df = spark.read.csv(test_data, header=True, inferSchema=True)\n",
    "#df.show()"
   ]
  },
  {
   "cell_type": "code",
   "execution_count": 4,
   "metadata": {},
   "outputs": [],
   "source": [
    "from pyspark.sql.types import FloatType\n",
    "from pyspark.sql.functions import udf\n",
    "\n",
    "@udf(returnType=FloatType())\n",
    "def square(s):\n",
    "    # input arg is a floating point\n",
    "    return s * s\n",
    "\n",
    "#df2 = df.withColumn(\"length_squared\", square(df['length']))\n",
    "#df2.show()"
   ]
  },
  {
   "cell_type": "code",
   "execution_count": 10,
   "metadata": {},
   "outputs": [],
   "source": [
    "from pyspark.sql.types import FloatType\n",
    "from pyspark.sql.functions import pandas_udf\n",
    "\n",
    "@pandas_udf(returnType=FloatType())\n",
    "def pd_square(s):\n",
    "    # input arg is a Pandas Series object (e.g. a 1d array)\n",
    "#     raise OSError(s.shape)\n",
    "    return s * s\n",
    "\n",
    "#df2 = df.withColumn(\"length_squared\", pd_square(df['length']))\n",
    "#df2.show()"
   ]
  },
  {
   "cell_type": "code",
   "execution_count": 11,
   "metadata": {},
   "outputs": [
    {
     "name": "stdout",
     "output_type": "stream",
     "text": [
      "CPU times: user 10 ms, sys: 0 ns, total: 10 ms\n",
      "Wall time: 11.5 s\n",
      "CPU times: user 10 ms, sys: 0 ns, total: 10 ms\n",
      "Wall time: 11.9 s\n"
     ]
    },
    {
     "data": {
      "text/plain": [
       "DataFrame[summary: string, _c0: string, sex: string, length: string, diameter: string, height: string, whole_weight: string, shucked_weight: string, viscera_weight: string, shell_weight: string, rings: string, length_squared: string]"
      ]
     },
     "execution_count": 11,
     "metadata": {},
     "output_type": "execute_result"
    }
   ],
   "source": [
    "# Disable caching of results\n",
    "#square_no_opt = square.asNondeterministic()\n",
    "#pd_square_no_opt = pd_square.asNondeterministic()\n",
    "\n",
    "%time df.withColumn(\"length_squared\", square(df['length'])).summary()\n",
    "%time df.withColumn(\"length_squared\", pd_square(df['length'])).summary()"
   ]
  }
 ],
 "metadata": {
  "celltoolbar": "Slideshow",
  "kernelspec": {
   "display_name": "Python 3",
   "language": "python",
   "name": "python3"
  },
  "language_info": {
   "codemirror_mode": {
    "name": "ipython",
    "version": 3
   },
   "file_extension": ".py",
   "mimetype": "text/x-python",
   "name": "python",
   "nbconvert_exporter": "python",
   "pygments_lexer": "ipython3",
   "version": "3.7.3"
  }
 },
 "nbformat": 4,
 "nbformat_minor": 2
}
